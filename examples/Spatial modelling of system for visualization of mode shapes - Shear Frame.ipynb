{
 "cells": [
  {
   "cell_type": "code",
   "execution_count": 1,
   "metadata": {},
   "outputs": [],
   "source": [
    "import numpy as np\n",
    "from strid.spatial import Node, LineElement, Mesh, LinearConstraint, SpatialModel\n",
    "import matplotlib.pyplot as plt"
   ]
  },
  {
   "cell_type": "markdown",
   "metadata": {},
   "source": [
    "# Spatial modelling of system for visualization of mode shapes - Shear Frame \n",
    "\n",
    "Visualization of mode shapes obtained in system identification is essential in modal analysis. This notebook shows how the `spatial` module of `strid` can be used to visualize a higher order model of a spatial system by converting a mode shape vector to the displacement vectors for the spatial model.\n",
    "\n",
    "In this example, we consider a 2D shear frame with 9 floors, where each floor has height of 3.0m, and width of 5.0m.\n",
    "\n",
    "We start by building a mesh of the shear frame with `Node`, `LineElement` and finally `Mesh` objects from the `strid.spatial` module.\n",
    "\n",
    "Let us first define the mesh for the leftmost column:"
   ]
  },
  {
   "cell_type": "code",
   "execution_count": 2,
   "metadata": {},
   "outputs": [],
   "source": [
    "n_floors = 9\n",
    "height_floors = 3.0\n",
    "width_floors = 5.0\n",
    "\n",
    "nodes = [Node((0, 0, i*height_floors)) for i in range(n_floors+1)]\n",
    "elements = [LineElement(nodes[i], nodes[i+1]) for i in range(n_floors)]\n",
    "\n",
    "mesh_left_column = Mesh(nodes=nodes, elements=elements)"
   ]
  },
  {
   "cell_type": "markdown",
   "metadata": {},
   "source": [
    "let us create a function to plot the meshes we create and plot the mesh of the left column:"
   ]
  },
  {
   "cell_type": "code",
   "execution_count": 3,
   "metadata": {},
   "outputs": [
    {
     "data": {
      "image/png": "[encoded data removed]",
      "text/plain": [
       "<Figure size 864x576 with 1 Axes>"
      ]
     },
     "metadata": {
      "needs_background": "light"
     },
     "output_type": "display_data"
    }
   ],
   "source": [
    "def plot_mesh(X, topology, ax=None, plot_nodes=True, plot_nodenums=True, color='k'):\n",
    "    \"\"\"Plot a mesh in the xz plane.\n",
    "    \n",
    "    This function takes in the geometry X and \n",
    "    the topology of a mesh and plots it in the xz plane.\n",
    "    \n",
    "    Arguments\n",
    "    ---------\n",
    "    X : 2darray\n",
    "        Geometry of mesh, shape (nx3) for a mesh with `n` nodes.\n",
    "        Row `i` defines the coordinate of node `i` in the mesh.\n",
    "    topology : [[str, [int, int ...]]]\n",
    "        Topology of mesh, shape (mx2) where m is the number of elements. \n",
    "        Each row in the list defines an element type and the connectivity\n",
    "        of all elements of that type. The connectivity is given as a list \n",
    "        of node indices (refering to X) that defines the geometry \n",
    "        of the element and the connectivity of the mesh. \n",
    "    ax : Optional[matplotlib.Axes]\n",
    "        Axes to plot the mesh onto.\n",
    "    plot_nodes : Optional[bool]\n",
    "        Plot nodes or not.\n",
    "    plot_nodenums : Optional[bool]\n",
    "        Plot the nodenumbers or not.\n",
    "    color : Optional[str or tuple]\n",
    "        Matplotlib color code for coloring the cells.\n",
    "    \"\"\"\n",
    "    if ax is None:\n",
    "        fig, ax = plt.subplots(dpi=144)\n",
    "        \n",
    "    # Plot nodes and nodenumbers\n",
    "    if plot_nodes:\n",
    "        for i, Xi in enumerate(X):\n",
    "            ax.plot(Xi[0], Xi[2], 'k.', ms=3)\n",
    "            if plot_nodenums:\n",
    "                ax.text(Xi[0], Xi[2], f\"{i}\", fontsize=6)\n",
    "        \n",
    "    # Plot cells\n",
    "    for cell_type, connectivity in topology:\n",
    "        if not cell_type == \"line\":\n",
    "            raise ValueError(\n",
    "                \"This function only plots LineElements, implement plotting for other elements yourself.\")\n",
    "        for node_ixs in connectivity:\n",
    "            Xc = X[node_ixs]\n",
    "            x, y = Xc[:, 0], Xc[:, 2]\n",
    "            ax.plot(x, y, lw=.3, color=color)\n",
    "\n",
    "    ax.set_aspect('equal')\n",
    "    ax.axis('off')\n",
    "\n",
    "plot_mesh(mesh_left_column.X0, mesh_left_column.topology)"
   ]
  },
  {
   "cell_type": "markdown",
   "metadata": {},
   "source": [
    "then we create the mesh for the rightmost column by copying the left column and translating it to the correct place (5.0m in x-direction)."
   ]
  },
  {
   "cell_type": "code",
   "execution_count": 4,
   "metadata": {},
   "outputs": [
    {
     "data": {
      "image/png": "[encoded data removed]",
      "text/plain": [
       "<Figure size 864x576 with 1 Axes>"
      ]
     },
     "metadata": {
      "needs_background": "light"
     },
     "output_type": "display_data"
    }
   ],
   "source": [
    "mesh_right_column = mesh_left_column.copy()\n",
    "mesh_right_column.translate((width_floors, 0., 0.))\n",
    "\n",
    "fig, ax = plt.subplots(dpi=144)\n",
    "for mesh in [mesh_left_column, mesh_right_column]:\n",
    "    plot_mesh(mesh.X0,  mesh.topology, ax=ax)\n"
   ]
  },
  {
   "cell_type": "markdown",
   "metadata": {},
   "source": [
    "and finally we create the mesh for the shear frame by using the meshes from the two columns as submeshes and connecting them at the floor with line elements."
   ]
  },
  {
   "cell_type": "code",
   "execution_count": 5,
   "metadata": {},
   "outputs": [
    {
     "data": {
      "image/png": "[encoded data removed]",
      "text/plain": [
       "<Figure size 864x576 with 1 Axes>"
      ]
     },
     "metadata": {
      "needs_background": "light"
     },
     "output_type": "display_data"
    }
   ],
   "source": [
    "floor_elements = [LineElement(n1, n2) \n",
    "               for n1, n2 in \n",
    "               zip(mesh_left_column.nodes[1:], mesh_right_column.nodes[1:])]\n",
    "mesh_sf = Mesh(elements=floor_elements, meshes=[mesh_left_column, mesh_right_column])\n",
    "\n",
    "plot_mesh(mesh_sf.X0, mesh_sf.topology)"
   ]
  },
  {
   "cell_type": "markdown",
   "metadata": {},
   "source": [
    "Note that the nodenumbers for the rightmost column has changed from 0-9 to 10-19 in the new mesh `mesh_sf` in comparison to the submesh `mesh_right_column`. In strid, the node numbers are determined by the mesh and is not a property of the node.\n",
    "\n",
    "---\n",
    "\n",
    "Let us assume that we have accelerometers installed at each floor, in the horizontal direction (x-direction) by the left column (x=0.0), i.e. at DOF 0 of nodes 1 to 9, see figure below:"
   ]
  },
  {
   "cell_type": "code",
   "execution_count": 6,
   "metadata": {},
   "outputs": [
    {
     "data": {
      "image/png": "[encoded data removed]",
      "text/plain": [
       "<Figure size 864x576 with 1 Axes>"
      ]
     },
     "metadata": {
      "needs_background": "light"
     },
     "output_type": "display_data"
    }
   ],
   "source": [
    "sensors = [mesh_sf.nodes[i].dofs[0] for i in range(1, 10)]\n",
    "\n",
    "fig, ax = plt.subplots(dpi=144)\n",
    "plot_mesh(mesh_sf.X0, mesh_sf.topology, ax=ax)\n",
    "# plotting sensors\n",
    "for i, sensor in enumerate(sensors):\n",
    "    node = mesh_sf.find_node_by_dof(sensor)\n",
    "    X = node.coordinate\n",
    "    ax.plot(X[0], X[2], 'r.')\n",
    "    ax.arrow(X[0], X[2], 1., 0., color='g', head_width=.5)\n",
    "    ax.text(X[0]+1, X[2]+.5, f\"{i}\", color='g')\n",
    "    \n",
    "ax.set_aspect('equal')\n",
    "ax.axis('off')\n",
    "fig.tight_layout()"
   ]
  },
  {
   "cell_type": "markdown",
   "metadata": {},
   "source": [
    "Given this sensor layout, our system identification will give us a mode vector which corresponds to the deformation at nodes 1 to 9 in the x-direction. The other dofs of this model must either be constrained to a predefined value or in terms of the sensor dofs.\n",
    "\n",
    "Let us start with the out of plane dofs. This is a 2D shear frame, and all deformations out of plane (y-direction) are assumed to be zero, i.e. DOF 1 (y-direction) of nodes [0,19] has a predefined value of zero. In strid, predefined values are imposed with linear constraint equations."
   ]
  },
  {
   "cell_type": "code",
   "execution_count": 7,
   "metadata": {},
   "outputs": [],
   "source": [
    "constraints_y = []\n",
    "for node in mesh_sf.nodes: # all nodes of mesh\n",
    "    constraint = LinearConstraint([node.dofs[1], ], [1.,], constant=0.)\n",
    "    constraints_y.append(constraint)"
   ]
  },
  {
   "cell_type": "markdown",
   "metadata": {},
   "source": [
    "Next, consider the boundary conditions of the mesh. Node 0 and 10 are fixed, i.e. all dofs of these nodes are constrained to 0. Note that we already constrained dof 1 (y-direction) in the previous step, and we only have constrain dof 0 (x-direction) and 2 (z-direction) at these nodes."
   ]
  },
  {
   "cell_type": "code",
   "execution_count": 8,
   "metadata": {},
   "outputs": [],
   "source": [
    "constraints_bc = []\n",
    "for nodenum in [0, 10]:\n",
    "    for dofnum in [0, 2]:\n",
    "        dof = mesh_sf.nodes[nodenum].dofs[dofnum]\n",
    "        constraint = LinearConstraint([dof, ], [1.], constant=0.0)\n",
    "        constraints_bc.append(constraint)"
   ]
  },
  {
   "cell_type": "markdown",
   "metadata": {},
   "source": [
    "With our understanding of mechanical structures and elements, we know that in general, the axial deformation of a beam is negligible compared to transversal deformation. \n",
    "\n",
    "Considering the horizontal direction first (x-direction), this means that the free dofs in the x-direction at the right column has the same deformation as the corresponding sensor dofs at the left column. That is, the horizontal deformation of node 11 is the same as the horizontal deformation of node 1, assuming that the axial deformation of the floor between node 1 and 11 is negligible to the horizontal deformation due to bending of the columns. \n",
    "\n",
    "Mathematically, this can be described as\n",
    "\n",
    "$u_{11} = u_{1}$\n",
    "\n",
    "or equivalently \n",
    "\n",
    "$u_{1} - u_{11} = 0$\n",
    "\n",
    "which again is a linear constraint equation and can be imposed in strid for the nodes at the left and right columns as"
   ]
  },
  {
   "cell_type": "code",
   "execution_count": 9,
   "metadata": {},
   "outputs": [],
   "source": [
    "constraints_x = []\n",
    "for nodenum_left, nodenum_right in zip(range(1, 10), range(11, 20)):\n",
    "    dofx_left = mesh_sf.nodes[nodenum_left].dofs[0]\n",
    "    dofx_right = mesh_sf.nodes[nodenum_right].dofs[0]\n",
    "    constraint = LinearConstraint([dofx_left, dofx_right], [1., -1.], constant=0.)\n",
    "    constraints_x.append(constraint)"
   ]
  },
  {
   "cell_type": "markdown",
   "metadata": {},
   "source": [
    "Finally, the dofs in the vertical direction (z-direction) must be considered. Again, axial deformation is assumed to be negligible to the transversal deformation, and since nodes 0 and 10 are fixed (boundary condition), it follows that all other dofs in the vertical direction are also zero."
   ]
  },
  {
   "cell_type": "code",
   "execution_count": 10,
   "metadata": {},
   "outputs": [],
   "source": [
    "constraints_z = []\n",
    "for nodenum in range(20):\n",
    "    dof = mesh_sf.nodes[nodenum].dofs[2]\n",
    "    constraint = LinearConstraint([dof,], [1.], constant=0.0)\n",
    "    constraints_z.append(constraint)"
   ]
  },
  {
   "cell_type": "markdown",
   "metadata": {},
   "source": [
    "We can now create a model of the system and check if the model is consistent, i.e. that we \n",
    "have constrained the model properly."
   ]
  },
  {
   "cell_type": "code",
   "execution_count": 11,
   "metadata": {},
   "outputs": [
    {
     "ename": "StridError",
     "evalue": "Constraint error(s), non-sensor dofs must be present in one and only one constraint equation.\n\tNode 0, DOF 2 (z-dir) present in more than one constraint.\n\tNode 10, DOF 2 (z-dir) present in more than one constraint.",
     "output_type": "error",
     "traceback": [
      "\u001b[0;31m---------------------------------------------------------------------------\u001b[0m",
      "\u001b[0;31mStridError\u001b[0m                                Traceback (most recent call last)",
      "\u001b[0;32m<ipython-input-11-7e549a24b41e>\u001b[0m in \u001b[0;36m<module>\u001b[0;34m\u001b[0m\n\u001b[1;32m      1\u001b[0m \u001b[0mconstraints\u001b[0m \u001b[0;34m=\u001b[0m \u001b[0mconstraints_x\u001b[0m \u001b[0;34m+\u001b[0m \u001b[0mconstraints_y\u001b[0m \u001b[0;34m+\u001b[0m \u001b[0mconstraints_z\u001b[0m \u001b[0;34m+\u001b[0m \u001b[0mconstraints_bc\u001b[0m\u001b[0;34m\u001b[0m\u001b[0;34m\u001b[0m\u001b[0m\n\u001b[1;32m      2\u001b[0m \u001b[0mmodel\u001b[0m \u001b[0;34m=\u001b[0m \u001b[0mSpatialModel\u001b[0m\u001b[0;34m(\u001b[0m\u001b[0mmesh_sf\u001b[0m\u001b[0;34m,\u001b[0m \u001b[0msensors\u001b[0m\u001b[0;34m,\u001b[0m \u001b[0mconstraints\u001b[0m\u001b[0;34m)\u001b[0m\u001b[0;34m\u001b[0m\u001b[0;34m\u001b[0m\u001b[0m\n\u001b[0;32m----> 3\u001b[0;31m \u001b[0mmodel\u001b[0m\u001b[0;34m.\u001b[0m\u001b[0mcheck_consistency\u001b[0m\u001b[0;34m(\u001b[0m\u001b[0;34m)\u001b[0m\u001b[0;34m\u001b[0m\u001b[0;34m\u001b[0m\u001b[0m\n\u001b[0m",
      "\u001b[0;32m~/documents/strid/notebooks-dev/spatial.py\u001b[0m in \u001b[0;36mcheck_consistency\u001b[0;34m(self)\u001b[0m\n\u001b[1;32m    516\u001b[0m             \u001b[0merrors\u001b[0m \u001b[0;34m=\u001b[0m \u001b[0;34m[\u001b[0m\u001b[0;34m]\u001b[0m\u001b[0;34m\u001b[0m\u001b[0;34m\u001b[0m\u001b[0m\n\u001b[1;32m    517\u001b[0m         \u001b[0;32mif\u001b[0m \u001b[0mlen\u001b[0m\u001b[0;34m(\u001b[0m\u001b[0merrors\u001b[0m\u001b[0;34m)\u001b[0m \u001b[0;34m>\u001b[0m \u001b[0;36m0\u001b[0m\u001b[0;34m:\u001b[0m\u001b[0;34m\u001b[0m\u001b[0;34m\u001b[0m\u001b[0m\n\u001b[0;32m--> 518\u001b[0;31m             \u001b[0;32mraise\u001b[0m \u001b[0mStridError\u001b[0m\u001b[0;34m(\u001b[0m\u001b[0;34m\"\\n\"\u001b[0m\u001b[0;34m.\u001b[0m\u001b[0mjoin\u001b[0m\u001b[0;34m(\u001b[0m\u001b[0merrors\u001b[0m\u001b[0;34m)\u001b[0m\u001b[0;34m)\u001b[0m\u001b[0;34m\u001b[0m\u001b[0;34m\u001b[0m\u001b[0m\n\u001b[0m\u001b[1;32m    519\u001b[0m \u001b[0;34m\u001b[0m\u001b[0m\n\u001b[1;32m    520\u001b[0m     \u001b[0;32mdef\u001b[0m \u001b[0m_assign_equation_numbers\u001b[0m\u001b[0;34m(\u001b[0m\u001b[0mself\u001b[0m\u001b[0;34m)\u001b[0m\u001b[0;34m:\u001b[0m\u001b[0;34m\u001b[0m\u001b[0;34m\u001b[0m\u001b[0m\n",
      "\u001b[0;31mStridError\u001b[0m: Constraint error(s), non-sensor dofs must be present in one and only one constraint equation.\n\tNode 0, DOF 2 (z-dir) present in more than one constraint.\n\tNode 10, DOF 2 (z-dir) present in more than one constraint."
     ]
    }
   ],
   "source": [
    "constraints = constraints_x + constraints_y + constraints_z + constraints_bc\n",
    "model = SpatialModel(mesh_sf, sensors, constraints)\n",
    "model.check_consistency()"
   ]
  },
  {
   "cell_type": "markdown",
   "metadata": {},
   "source": [
    "Ups, there is an error. The error message tells us that dof 2 (z-direction) in node 0 and 10 are involved in more than one constraint equation, i.e. there are two overconstraints. Looking back, we realize that dof 2 of node 0 and 10 has been constrained in both our handling of boundary conditions and of dofs in the z-direction.\n",
    "\n",
    "To fix this, we rewrite the constraints in the z-direction to exclude node 0 and 10, and then redo the consistency check"
   ]
  },
  {
   "cell_type": "code",
   "execution_count": 12,
   "metadata": {},
   "outputs": [],
   "source": [
    "constraints_z = []\n",
    "for nodenum in range(20):\n",
    "    if (nodenum == 0) or (nodenum == 10):\n",
    "        continue\n",
    "    dof = mesh_sf.nodes[nodenum].dofs[2]\n",
    "    constraint = LinearConstraint([dof,], [1.], constant=0.0)\n",
    "    constraints_z.append(constraint)\n",
    "    \n",
    "constraints = constraints_x + constraints_y + constraints_z + constraints_bc\n",
    "model = SpatialModel(mesh_sf, sensors, constraints)\n",
    "model.check_consistency()"
   ]
  },
  {
   "cell_type": "markdown",
   "metadata": {},
   "source": [
    "and now the model passes the consistency check.\n",
    "\n",
    "Note that the consistency checking can (should) be used actively when establishing the constraints of a model. The check also informs if the model is underconstrained, see below where the boundary conditions are omitted"
   ]
  },
  {
   "cell_type": "code",
   "execution_count": 13,
   "metadata": {},
   "outputs": [
    {
     "ename": "StridError",
     "evalue": "Constraint error(s), non-sensor dofs must be present in one and only one constraint equation.\n\tNode 0, DOF 0 (x-dir) is not present in any constraint.\n\tNode 0, DOF 2 (z-dir) is not present in any constraint.\n\tNode 10, DOF 0 (x-dir) is not present in any constraint.\n\tNode 10, DOF 2 (z-dir) is not present in any constraint.",
     "output_type": "error",
     "traceback": [
      "\u001b[0;31m---------------------------------------------------------------------------\u001b[0m",
      "\u001b[0;31mStridError\u001b[0m                                Traceback (most recent call last)",
      "\u001b[0;32m<ipython-input-13-6275bfedba57>\u001b[0m in \u001b[0;36m<module>\u001b[0;34m\u001b[0m\n\u001b[1;32m      1\u001b[0m \u001b[0mconstraints_wo_bc\u001b[0m \u001b[0;34m=\u001b[0m \u001b[0mconstraints_x\u001b[0m \u001b[0;34m+\u001b[0m \u001b[0mconstraints_y\u001b[0m \u001b[0;34m+\u001b[0m \u001b[0mconstraints_z\u001b[0m \u001b[0;31m# + constraints_bc\u001b[0m\u001b[0;34m\u001b[0m\u001b[0;34m\u001b[0m\u001b[0m\n\u001b[1;32m      2\u001b[0m \u001b[0mmodel_wo_bc\u001b[0m \u001b[0;34m=\u001b[0m \u001b[0mSpatialModel\u001b[0m\u001b[0;34m(\u001b[0m\u001b[0mmesh_sf\u001b[0m\u001b[0;34m,\u001b[0m \u001b[0msensors\u001b[0m\u001b[0;34m,\u001b[0m \u001b[0mconstraints_wo_bc\u001b[0m\u001b[0;34m)\u001b[0m\u001b[0;34m\u001b[0m\u001b[0;34m\u001b[0m\u001b[0m\n\u001b[0;32m----> 3\u001b[0;31m \u001b[0mmodel_wo_bc\u001b[0m\u001b[0;34m.\u001b[0m\u001b[0mcheck_consistency\u001b[0m\u001b[0;34m(\u001b[0m\u001b[0;34m)\u001b[0m\u001b[0;34m\u001b[0m\u001b[0;34m\u001b[0m\u001b[0m\n\u001b[0m",
      "\u001b[0;32m~/documents/strid/notebooks-dev/spatial.py\u001b[0m in \u001b[0;36mcheck_consistency\u001b[0;34m(self)\u001b[0m\n\u001b[1;32m    516\u001b[0m             \u001b[0merrors\u001b[0m \u001b[0;34m=\u001b[0m \u001b[0;34m[\u001b[0m\u001b[0;34m]\u001b[0m\u001b[0;34m\u001b[0m\u001b[0;34m\u001b[0m\u001b[0m\n\u001b[1;32m    517\u001b[0m         \u001b[0;32mif\u001b[0m \u001b[0mlen\u001b[0m\u001b[0;34m(\u001b[0m\u001b[0merrors\u001b[0m\u001b[0;34m)\u001b[0m \u001b[0;34m>\u001b[0m \u001b[0;36m0\u001b[0m\u001b[0;34m:\u001b[0m\u001b[0;34m\u001b[0m\u001b[0;34m\u001b[0m\u001b[0m\n\u001b[0;32m--> 518\u001b[0;31m             \u001b[0;32mraise\u001b[0m \u001b[0mStridError\u001b[0m\u001b[0;34m(\u001b[0m\u001b[0;34m\"\\n\"\u001b[0m\u001b[0;34m.\u001b[0m\u001b[0mjoin\u001b[0m\u001b[0;34m(\u001b[0m\u001b[0merrors\u001b[0m\u001b[0;34m)\u001b[0m\u001b[0;34m)\u001b[0m\u001b[0;34m\u001b[0m\u001b[0;34m\u001b[0m\u001b[0m\n\u001b[0m\u001b[1;32m    519\u001b[0m \u001b[0;34m\u001b[0m\u001b[0m\n\u001b[1;32m    520\u001b[0m     \u001b[0;32mdef\u001b[0m \u001b[0m_assign_equation_numbers\u001b[0m\u001b[0;34m(\u001b[0m\u001b[0mself\u001b[0m\u001b[0;34m)\u001b[0m\u001b[0;34m:\u001b[0m\u001b[0;34m\u001b[0m\u001b[0;34m\u001b[0m\u001b[0m\n",
      "\u001b[0;31mStridError\u001b[0m: Constraint error(s), non-sensor dofs must be present in one and only one constraint equation.\n\tNode 0, DOF 0 (x-dir) is not present in any constraint.\n\tNode 0, DOF 2 (z-dir) is not present in any constraint.\n\tNode 10, DOF 0 (x-dir) is not present in any constraint.\n\tNode 10, DOF 2 (z-dir) is not present in any constraint."
     ]
    }
   ],
   "source": [
    "constraints_wo_bc = constraints_x + constraints_y + constraints_z # + constraints_bc\n",
    "model_wo_bc = SpatialModel(mesh_sf, sensors, constraints_wo_bc)\n",
    "model_wo_bc.check_consistency()"
   ]
  },
  {
   "cell_type": "markdown",
   "metadata": {},
   "source": [
    "Now that we have a consistent model, we can convert a mode shape vector to a deformation array for the mesh. For a shear frame with constant stiffness of columns over the entire height and same mass of all floors, the analytical mode shape is given by $u$ below."
   ]
  },
  {
   "cell_type": "code",
   "execution_count": 14,
   "metadata": {},
   "outputs": [
    {
     "data": {
      "image/png": "[encoded data removed]",
      "text/plain": [
       "<Figure size 432x288 with 1 Axes>"
      ]
     },
     "metadata": {
      "needs_background": "light"
     },
     "output_type": "display_data"
    }
   ],
   "source": [
    "def mode_shape_sf(mode_number, n_floors):\n",
    "    i = np.arange(0, n_floors+1)\n",
    "    u =  np.sin(i*np.pi*(2*mode_number-1)/(2*n_floors+1))\n",
    "    return i, u\n",
    "\n",
    "mode_number = 3\n",
    "i, u = mode_shape_sf(mode_number, n_floors)\n",
    "plt.plot(u, i, '-o')\n",
    "plt.xlabel(\"u\")\n",
    "plt.ylabel(\"Floor\")\n",
    "plt.yticks(range(0, 12, 3))\n",
    "\n",
    "u = u[1:] # Leave out the zeroth node."
   ]
  },
  {
   "cell_type": "markdown",
   "metadata": {},
   "source": [
    "We now use this mode shape to calculate the deformed geometry for all nodes of the mesh with the spatial model that we have established."
   ]
  },
  {
   "cell_type": "code",
   "execution_count": 15,
   "metadata": {},
   "outputs": [
    {
     "data": {
      "image/png": "[encoded data removed]",
      "text/plain": [
       "<Figure size 864x576 with 1 Axes>"
      ]
     },
     "metadata": {
      "needs_background": "light"
     },
     "output_type": "display_data"
    }
   ],
   "source": [
    "X0 = model.X0  # Undeformed geometry\n",
    "X = model.X(u) # Deformed geometry (mode shape)\n",
    "\n",
    "topology = model.topology\n",
    "\n",
    "fig, ax = plt.subplots(dpi=144)\n",
    "colors = ['r', (0., 0., 0., .3)]\n",
    "for Xi in [X0, X]:\n",
    "    plot_mesh(Xi, topology, ax=ax, plot_nodes=False, color=colors.pop())\n",
    "        \n"
   ]
  },
  {
   "cell_type": "markdown",
   "metadata": {},
   "source": [
    "In this example, we have used matplotlib to visualize the mesh in xz plane from the geometry and topology established by the spatial modelling. Matplotlib may be sufficient for many visualization tasks, especially for 2D structures, and perhaps also for 3D structures when an appropriate projection is used (see e.g. `strid.spatial.isometric_projection`).\n",
    "\n",
    "However, for general 3D structures, it is necessary to look outside of 2D plotting in `matplotlib`. Some suggestions  (at the time of writing this example) for 3D plotting in python are the packages `pyvista` and `mayavi`.\n",
    "\n",
    "Another option is to go outside of python.\n",
    "\n",
    "[ParaView](https://www.paraview.org/) is an open-source, multi-platform data analysis and visualization application well suited for the purpose of visualizing and animating meshes. \n",
    "\n",
    "Below, we export the mesh and the mode shape to a `.vtu` file with the `meshio` package. The mesh and modeshapes can then be imported into ParaView and further analyzed therein. (See animation from ParaView of mode shape 3 of the shear frame at the bottom of this example). "
   ]
  },
  {
   "cell_type": "code",
   "execution_count": 16,
   "metadata": {},
   "outputs": [],
   "source": [
    "import meshio\n",
    "\n",
    "point_data ={}\n",
    "for mode_num in range(1, 10):\n",
    "    floor, u = mode_shape_sf(mode_num, n_floors)\n",
    "    point_data[f\"Mode {mode_num}\"] = model.U(u[1:])\n",
    "    \n",
    "\n",
    "mesh = meshio.Mesh(model.X0, model.topology, point_data=point_data)\n",
    "mesh.write(\"shear-frame.vtu\")"
   ]
  },
  {
   "cell_type": "markdown",
   "metadata": {},
   "source": [
    "![mode3](mode3sf.gif)"
   ]
  }
 ],
 "metadata": {
  "kernelspec": {
   "display_name": "Python 3.7.4 64-bit ('base': conda)",
   "language": "python",
   "name": "python37464bitbaseconda39f27ea8cf364dcaaff0c03c3ce95b23"
  },
  "language_info": {
   "codemirror_mode": {
    "name": "ipython",
    "version": 3
   },
   "file_extension": ".py",
   "mimetype": "text/x-python",
   "name": "python",
   "nbconvert_exporter": "python",
   "pygments_lexer": "ipython3",
   "version": "3.7.4"
  }
 },
 "nbformat": 4,
 "nbformat_minor": 2
}
